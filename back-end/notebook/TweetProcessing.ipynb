{
 "cells": [
  {
   "cell_type": "code",
   "execution_count": 2,
   "metadata": {},
   "outputs": [],
   "source": [
    "import pandas as pd\n",
    "from datetime import datetime\n",
    "import datetime"
   ]
  },
  {
   "cell_type": "code",
   "execution_count": 3,
   "metadata": {
    "scrolled": true
   },
   "outputs": [
    {
     "data": {
      "text/html": [
       "<div>\n",
       "<style scoped>\n",
       "    .dataframe tbody tr th:only-of-type {\n",
       "        vertical-align: middle;\n",
       "    }\n",
       "\n",
       "    .dataframe tbody tr th {\n",
       "        vertical-align: top;\n",
       "    }\n",
       "\n",
       "    .dataframe thead th {\n",
       "        text-align: right;\n",
       "    }\n",
       "</style>\n",
       "<table border=\"1\" class=\"dataframe\">\n",
       "  <thead>\n",
       "    <tr style=\"text-align: right;\">\n",
       "      <th></th>\n",
       "      <th>created_at</th>\n",
       "      <th>id</th>\n",
       "      <th>id_str</th>\n",
       "      <th>text</th>\n",
       "      <th>truncated</th>\n",
       "      <th>entities</th>\n",
       "      <th>source</th>\n",
       "      <th>in_reply_to_status_id</th>\n",
       "      <th>in_reply_to_status_id_str</th>\n",
       "      <th>in_reply_to_user_id</th>\n",
       "      <th>...</th>\n",
       "      <th>favorite_count</th>\n",
       "      <th>favorited</th>\n",
       "      <th>retweeted</th>\n",
       "      <th>possibly_sensitive</th>\n",
       "      <th>lang</th>\n",
       "      <th>extended_entities</th>\n",
       "      <th>retweeted_status</th>\n",
       "      <th>quoted_status_id</th>\n",
       "      <th>quoted_status_id_str</th>\n",
       "      <th>quoted_status</th>\n",
       "    </tr>\n",
       "  </thead>\n",
       "  <tbody>\n",
       "    <tr>\n",
       "      <th>0</th>\n",
       "      <td>2013-12-31 07:14:22+00:00</td>\n",
       "      <td>417916626596806656</td>\n",
       "      <td>417916626596806656</td>\n",
       "      <td>Boom bitch get out the way! #drunk #islands #g...</td>\n",
       "      <td>False</td>\n",
       "      <td>{'hashtags': [{'text': 'drunk', 'indices': [28...</td>\n",
       "      <td>&lt;a href=\"http://instagram.com\" rel=\"nofollow\"&gt;...</td>\n",
       "      <td>NaN</td>\n",
       "      <td>NaN</td>\n",
       "      <td>NaN</td>\n",
       "      <td>...</td>\n",
       "      <td>0</td>\n",
       "      <td>False</td>\n",
       "      <td>False</td>\n",
       "      <td>0.0</td>\n",
       "      <td>en</td>\n",
       "      <td>NaN</td>\n",
       "      <td>NaN</td>\n",
       "      <td>NaN</td>\n",
       "      <td>NaN</td>\n",
       "      <td>NaN</td>\n",
       "    </tr>\n",
       "    <tr>\n",
       "      <th>1</th>\n",
       "      <td>2013-12-31 18:49:31+00:00</td>\n",
       "      <td>418091565161017345</td>\n",
       "      <td>418091565161017344</td>\n",
       "      <td>@WeatherDude17 Not that revved up yet due to m...</td>\n",
       "      <td>False</td>\n",
       "      <td>{'hashtags': [{'text': 'snow', 'indices': [108...</td>\n",
       "      <td>&lt;a href=\"https://about.twitter.com/products/tw...</td>\n",
       "      <td>4.180914e+17</td>\n",
       "      <td>4.180914e+17</td>\n",
       "      <td>1.214464e+09</td>\n",
       "      <td>...</td>\n",
       "      <td>0</td>\n",
       "      <td>False</td>\n",
       "      <td>False</td>\n",
       "      <td>NaN</td>\n",
       "      <td>en</td>\n",
       "      <td>NaN</td>\n",
       "      <td>NaN</td>\n",
       "      <td>NaN</td>\n",
       "      <td>NaN</td>\n",
       "      <td>NaN</td>\n",
       "    </tr>\n",
       "    <tr>\n",
       "      <th>2</th>\n",
       "      <td>2013-12-30 20:29:20+00:00</td>\n",
       "      <td>417754295455723520</td>\n",
       "      <td>417754295455723520</td>\n",
       "      <td>Story of my life! 😂 #boulder http://t.co/ZMfNK...</td>\n",
       "      <td>False</td>\n",
       "      <td>{'hashtags': [{'text': 'boulder', 'indices': [...</td>\n",
       "      <td>&lt;a href=\"http://twitter.com/download/iphone\" r...</td>\n",
       "      <td>NaN</td>\n",
       "      <td>NaN</td>\n",
       "      <td>NaN</td>\n",
       "      <td>...</td>\n",
       "      <td>0</td>\n",
       "      <td>False</td>\n",
       "      <td>False</td>\n",
       "      <td>0.0</td>\n",
       "      <td>en</td>\n",
       "      <td>{'media': [{'id': 417754295334088704, 'id_str'...</td>\n",
       "      <td>NaN</td>\n",
       "      <td>NaN</td>\n",
       "      <td>NaN</td>\n",
       "      <td>NaN</td>\n",
       "    </tr>\n",
       "    <tr>\n",
       "      <th>3</th>\n",
       "      <td>2013-12-30 23:02:29+00:00</td>\n",
       "      <td>417792838428925952</td>\n",
       "      <td>417792838428925952</td>\n",
       "      <td>We're looking for the two who came to help a c...</td>\n",
       "      <td>False</td>\n",
       "      <td>{'hashtags': [{'text': 'Boulder', 'indices': [...</td>\n",
       "      <td>&lt;a href=\"http://www.tweetcaster.com\" rel=\"nofo...</td>\n",
       "      <td>NaN</td>\n",
       "      <td>NaN</td>\n",
       "      <td>NaN</td>\n",
       "      <td>...</td>\n",
       "      <td>0</td>\n",
       "      <td>False</td>\n",
       "      <td>False</td>\n",
       "      <td>0.0</td>\n",
       "      <td>en</td>\n",
       "      <td>NaN</td>\n",
       "      <td>NaN</td>\n",
       "      <td>NaN</td>\n",
       "      <td>NaN</td>\n",
       "      <td>NaN</td>\n",
       "    </tr>\n",
       "    <tr>\n",
       "      <th>4</th>\n",
       "      <td>2014-01-01 06:12:15+00:00</td>\n",
       "      <td>418263379027820544</td>\n",
       "      <td>418263379027820544</td>\n",
       "      <td>Happy New Year #Boulder !!!! What are some of ...</td>\n",
       "      <td>False</td>\n",
       "      <td>{'hashtags': [{'text': 'Boulder', 'indices': [...</td>\n",
       "      <td>&lt;a href=\"http://twitter.com/download/iphone\" r...</td>\n",
       "      <td>NaN</td>\n",
       "      <td>NaN</td>\n",
       "      <td>NaN</td>\n",
       "      <td>...</td>\n",
       "      <td>0</td>\n",
       "      <td>False</td>\n",
       "      <td>False</td>\n",
       "      <td>NaN</td>\n",
       "      <td>en</td>\n",
       "      <td>NaN</td>\n",
       "      <td>NaN</td>\n",
       "      <td>NaN</td>\n",
       "      <td>NaN</td>\n",
       "      <td>NaN</td>\n",
       "    </tr>\n",
       "    <tr>\n",
       "      <th>...</th>\n",
       "      <td>...</td>\n",
       "      <td>...</td>\n",
       "      <td>...</td>\n",
       "      <td>...</td>\n",
       "      <td>...</td>\n",
       "      <td>...</td>\n",
       "      <td>...</td>\n",
       "      <td>...</td>\n",
       "      <td>...</td>\n",
       "      <td>...</td>\n",
       "      <td>...</td>\n",
       "      <td>...</td>\n",
       "      <td>...</td>\n",
       "      <td>...</td>\n",
       "      <td>...</td>\n",
       "      <td>...</td>\n",
       "      <td>...</td>\n",
       "      <td>...</td>\n",
       "      <td>...</td>\n",
       "      <td>...</td>\n",
       "      <td>...</td>\n",
       "    </tr>\n",
       "    <tr>\n",
       "      <th>18816</th>\n",
       "      <td>2013-09-12 04:12:20+00:00</td>\n",
       "      <td>378008148759420928</td>\n",
       "      <td>378008148759420928</td>\n",
       "      <td>RT @EricRobertson: A more representative flood...</td>\n",
       "      <td>False</td>\n",
       "      <td>{'hashtags': [], 'symbols': [], 'user_mentions...</td>\n",
       "      <td>&lt;a href=\"http://www.twitter.com\" rel=\"nofollow...</td>\n",
       "      <td>NaN</td>\n",
       "      <td>NaN</td>\n",
       "      <td>NaN</td>\n",
       "      <td>...</td>\n",
       "      <td>0</td>\n",
       "      <td>False</td>\n",
       "      <td>False</td>\n",
       "      <td>0.0</td>\n",
       "      <td>en</td>\n",
       "      <td>NaN</td>\n",
       "      <td>{'created_at': 'Thu Sep 12 03:54:00 +0000 2013...</td>\n",
       "      <td>NaN</td>\n",
       "      <td>NaN</td>\n",
       "      <td>NaN</td>\n",
       "    </tr>\n",
       "    <tr>\n",
       "      <th>18817</th>\n",
       "      <td>2013-09-12 04:03:47+00:00</td>\n",
       "      <td>378005998872432640</td>\n",
       "      <td>378005998872432640</td>\n",
       "      <td>Warning. Flash flood of boulder creek is immin...</td>\n",
       "      <td>False</td>\n",
       "      <td>{'hashtags': [{'text': 'boulderflood', 'indice...</td>\n",
       "      <td>&lt;a href=\"http://twitter.com/download/iphone\" r...</td>\n",
       "      <td>NaN</td>\n",
       "      <td>NaN</td>\n",
       "      <td>NaN</td>\n",
       "      <td>...</td>\n",
       "      <td>0</td>\n",
       "      <td>False</td>\n",
       "      <td>False</td>\n",
       "      <td>NaN</td>\n",
       "      <td>en</td>\n",
       "      <td>NaN</td>\n",
       "      <td>NaN</td>\n",
       "      <td>NaN</td>\n",
       "      <td>NaN</td>\n",
       "      <td>NaN</td>\n",
       "    </tr>\n",
       "    <tr>\n",
       "      <th>18818</th>\n",
       "      <td>2013-09-12 04:11:56+00:00</td>\n",
       "      <td>378008050335875074</td>\n",
       "      <td>378008050335875072</td>\n",
       "      <td>I just got an “Emergency Alert”! Nice to know ...</td>\n",
       "      <td>False</td>\n",
       "      <td>{'hashtags': [{'text': 'cowx', 'indices': [112...</td>\n",
       "      <td>&lt;a href=\"http://tapbots.com/tweetbot\" rel=\"nof...</td>\n",
       "      <td>NaN</td>\n",
       "      <td>NaN</td>\n",
       "      <td>NaN</td>\n",
       "      <td>...</td>\n",
       "      <td>0</td>\n",
       "      <td>False</td>\n",
       "      <td>False</td>\n",
       "      <td>0.0</td>\n",
       "      <td>en</td>\n",
       "      <td>{'media': [{'id': 378008050017136640, 'id_str'...</td>\n",
       "      <td>NaN</td>\n",
       "      <td>NaN</td>\n",
       "      <td>NaN</td>\n",
       "      <td>NaN</td>\n",
       "    </tr>\n",
       "    <tr>\n",
       "      <th>18819</th>\n",
       "      <td>2013-09-12 04:05:59+00:00</td>\n",
       "      <td>378006549735538688</td>\n",
       "      <td>378006549735538688</td>\n",
       "      <td>RT @dailycamera: RT @CUBoulderPolice:  Some fl...</td>\n",
       "      <td>False</td>\n",
       "      <td>{'hashtags': [{'text': 'CUBoulder', 'indices':...</td>\n",
       "      <td>&lt;a href=\"http://twitter.com/download/iphone\" r...</td>\n",
       "      <td>NaN</td>\n",
       "      <td>NaN</td>\n",
       "      <td>NaN</td>\n",
       "      <td>...</td>\n",
       "      <td>0</td>\n",
       "      <td>False</td>\n",
       "      <td>False</td>\n",
       "      <td>NaN</td>\n",
       "      <td>en</td>\n",
       "      <td>NaN</td>\n",
       "      <td>{'created_at': 'Thu Sep 12 04:05:17 +0000 2013...</td>\n",
       "      <td>NaN</td>\n",
       "      <td>NaN</td>\n",
       "      <td>NaN</td>\n",
       "    </tr>\n",
       "    <tr>\n",
       "      <th>18820</th>\n",
       "      <td>2013-09-12 04:07:35+00:00</td>\n",
       "      <td>378006955563814912</td>\n",
       "      <td>378006955563814912</td>\n",
       "      <td>@monikarun @courtneyo @eatplaylove @Greeblemon...</td>\n",
       "      <td>False</td>\n",
       "      <td>{'hashtags': [{'text': 'Boulderflood', 'indice...</td>\n",
       "      <td>&lt;a href=\"http://twitter.com\" rel=\"nofollow\"&gt;Tw...</td>\n",
       "      <td>3.780068e+17</td>\n",
       "      <td>3.780068e+17</td>\n",
       "      <td>5.124341e+06</td>\n",
       "      <td>...</td>\n",
       "      <td>0</td>\n",
       "      <td>False</td>\n",
       "      <td>False</td>\n",
       "      <td>NaN</td>\n",
       "      <td>en</td>\n",
       "      <td>NaN</td>\n",
       "      <td>NaN</td>\n",
       "      <td>NaN</td>\n",
       "      <td>NaN</td>\n",
       "      <td>NaN</td>\n",
       "    </tr>\n",
       "  </tbody>\n",
       "</table>\n",
       "<p>18821 rows × 29 columns</p>\n",
       "</div>"
      ],
      "text/plain": [
       "                     created_at                  id              id_str  \\\n",
       "0     2013-12-31 07:14:22+00:00  417916626596806656  417916626596806656   \n",
       "1     2013-12-31 18:49:31+00:00  418091565161017345  418091565161017344   \n",
       "2     2013-12-30 20:29:20+00:00  417754295455723520  417754295455723520   \n",
       "3     2013-12-30 23:02:29+00:00  417792838428925952  417792838428925952   \n",
       "4     2014-01-01 06:12:15+00:00  418263379027820544  418263379027820544   \n",
       "...                         ...                 ...                 ...   \n",
       "18816 2013-09-12 04:12:20+00:00  378008148759420928  378008148759420928   \n",
       "18817 2013-09-12 04:03:47+00:00  378005998872432640  378005998872432640   \n",
       "18818 2013-09-12 04:11:56+00:00  378008050335875074  378008050335875072   \n",
       "18819 2013-09-12 04:05:59+00:00  378006549735538688  378006549735538688   \n",
       "18820 2013-09-12 04:07:35+00:00  378006955563814912  378006955563814912   \n",
       "\n",
       "                                                    text  truncated  \\\n",
       "0      Boom bitch get out the way! #drunk #islands #g...      False   \n",
       "1      @WeatherDude17 Not that revved up yet due to m...      False   \n",
       "2      Story of my life! 😂 #boulder http://t.co/ZMfNK...      False   \n",
       "3      We're looking for the two who came to help a c...      False   \n",
       "4      Happy New Year #Boulder !!!! What are some of ...      False   \n",
       "...                                                  ...        ...   \n",
       "18816  RT @EricRobertson: A more representative flood...      False   \n",
       "18817  Warning. Flash flood of boulder creek is immin...      False   \n",
       "18818  I just got an “Emergency Alert”! Nice to know ...      False   \n",
       "18819  RT @dailycamera: RT @CUBoulderPolice:  Some fl...      False   \n",
       "18820  @monikarun @courtneyo @eatplaylove @Greeblemon...      False   \n",
       "\n",
       "                                                entities  \\\n",
       "0      {'hashtags': [{'text': 'drunk', 'indices': [28...   \n",
       "1      {'hashtags': [{'text': 'snow', 'indices': [108...   \n",
       "2      {'hashtags': [{'text': 'boulder', 'indices': [...   \n",
       "3      {'hashtags': [{'text': 'Boulder', 'indices': [...   \n",
       "4      {'hashtags': [{'text': 'Boulder', 'indices': [...   \n",
       "...                                                  ...   \n",
       "18816  {'hashtags': [], 'symbols': [], 'user_mentions...   \n",
       "18817  {'hashtags': [{'text': 'boulderflood', 'indice...   \n",
       "18818  {'hashtags': [{'text': 'cowx', 'indices': [112...   \n",
       "18819  {'hashtags': [{'text': 'CUBoulder', 'indices':...   \n",
       "18820  {'hashtags': [{'text': 'Boulderflood', 'indice...   \n",
       "\n",
       "                                                  source  \\\n",
       "0      <a href=\"http://instagram.com\" rel=\"nofollow\">...   \n",
       "1      <a href=\"https://about.twitter.com/products/tw...   \n",
       "2      <a href=\"http://twitter.com/download/iphone\" r...   \n",
       "3      <a href=\"http://www.tweetcaster.com\" rel=\"nofo...   \n",
       "4      <a href=\"http://twitter.com/download/iphone\" r...   \n",
       "...                                                  ...   \n",
       "18816  <a href=\"http://www.twitter.com\" rel=\"nofollow...   \n",
       "18817  <a href=\"http://twitter.com/download/iphone\" r...   \n",
       "18818  <a href=\"http://tapbots.com/tweetbot\" rel=\"nof...   \n",
       "18819  <a href=\"http://twitter.com/download/iphone\" r...   \n",
       "18820  <a href=\"http://twitter.com\" rel=\"nofollow\">Tw...   \n",
       "\n",
       "       in_reply_to_status_id  in_reply_to_status_id_str  in_reply_to_user_id  \\\n",
       "0                        NaN                        NaN                  NaN   \n",
       "1               4.180914e+17               4.180914e+17         1.214464e+09   \n",
       "2                        NaN                        NaN                  NaN   \n",
       "3                        NaN                        NaN                  NaN   \n",
       "4                        NaN                        NaN                  NaN   \n",
       "...                      ...                        ...                  ...   \n",
       "18816                    NaN                        NaN                  NaN   \n",
       "18817                    NaN                        NaN                  NaN   \n",
       "18818                    NaN                        NaN                  NaN   \n",
       "18819                    NaN                        NaN                  NaN   \n",
       "18820           3.780068e+17               3.780068e+17         5.124341e+06   \n",
       "\n",
       "       ...  favorite_count favorited retweeted possibly_sensitive lang  \\\n",
       "0      ...               0     False     False                0.0   en   \n",
       "1      ...               0     False     False                NaN   en   \n",
       "2      ...               0     False     False                0.0   en   \n",
       "3      ...               0     False     False                0.0   en   \n",
       "4      ...               0     False     False                NaN   en   \n",
       "...    ...             ...       ...       ...                ...  ...   \n",
       "18816  ...               0     False     False                0.0   en   \n",
       "18817  ...               0     False     False                NaN   en   \n",
       "18818  ...               0     False     False                0.0   en   \n",
       "18819  ...               0     False     False                NaN   en   \n",
       "18820  ...               0     False     False                NaN   en   \n",
       "\n",
       "                                       extended_entities  \\\n",
       "0                                                    NaN   \n",
       "1                                                    NaN   \n",
       "2      {'media': [{'id': 417754295334088704, 'id_str'...   \n",
       "3                                                    NaN   \n",
       "4                                                    NaN   \n",
       "...                                                  ...   \n",
       "18816                                                NaN   \n",
       "18817                                                NaN   \n",
       "18818  {'media': [{'id': 378008050017136640, 'id_str'...   \n",
       "18819                                                NaN   \n",
       "18820                                                NaN   \n",
       "\n",
       "                                        retweeted_status  quoted_status_id  \\\n",
       "0                                                    NaN               NaN   \n",
       "1                                                    NaN               NaN   \n",
       "2                                                    NaN               NaN   \n",
       "3                                                    NaN               NaN   \n",
       "4                                                    NaN               NaN   \n",
       "...                                                  ...               ...   \n",
       "18816  {'created_at': 'Thu Sep 12 03:54:00 +0000 2013...               NaN   \n",
       "18817                                                NaN               NaN   \n",
       "18818                                                NaN               NaN   \n",
       "18819  {'created_at': 'Thu Sep 12 04:05:17 +0000 2013...               NaN   \n",
       "18820                                                NaN               NaN   \n",
       "\n",
       "       quoted_status_id_str  quoted_status  \n",
       "0                       NaN            NaN  \n",
       "1                       NaN            NaN  \n",
       "2                       NaN            NaN  \n",
       "3                       NaN            NaN  \n",
       "4                       NaN            NaN  \n",
       "...                     ...            ...  \n",
       "18816                   NaN            NaN  \n",
       "18817                   NaN            NaN  \n",
       "18818                   NaN            NaN  \n",
       "18819                   NaN            NaN  \n",
       "18820                   NaN            NaN  \n",
       "\n",
       "[18821 rows x 29 columns]"
      ]
     },
     "execution_count": 3,
     "metadata": {},
     "output_type": "execute_result"
    }
   ],
   "source": [
    "df = pd.read_json(\"data.json\", lines = True)\n",
    "df"
   ]
  },
  {
   "cell_type": "code",
   "execution_count": 4,
   "metadata": {
    "scrolled": false
   },
   "outputs": [
    {
     "data": {
      "text/plain": [
       "Index(['created_at', 'id', 'id_str', 'text', 'truncated', 'entities', 'source',\n",
       "       'in_reply_to_status_id', 'in_reply_to_status_id_str',\n",
       "       'in_reply_to_user_id', 'in_reply_to_user_id_str',\n",
       "       'in_reply_to_screen_name', 'user', 'geo', 'coordinates', 'place',\n",
       "       'contributors', 'is_quote_status', 'retweet_count', 'favorite_count',\n",
       "       'favorited', 'retweeted', 'possibly_sensitive', 'lang',\n",
       "       'extended_entities', 'retweeted_status', 'quoted_status_id',\n",
       "       'quoted_status_id_str', 'quoted_status'],\n",
       "      dtype='object')"
      ]
     },
     "execution_count": 4,
     "metadata": {},
     "output_type": "execute_result"
    }
   ],
   "source": [
    "df.columns"
   ]
  },
  {
   "cell_type": "code",
   "execution_count": 5,
   "metadata": {},
   "outputs": [],
   "source": [
    "df = df.drop(columns=['id_str', 'truncated', 'in_reply_to_status_id', 'in_reply_to_status_id_str', 'in_reply_to_user_id', \\\n",
    "                'in_reply_to_user_id_str', 'in_reply_to_screen_name', 'geo', 'contributors', 'is_quote_status', \\\n",
    "                'extended_entities', 'favorited', 'retweeted', 'lang', 'quoted_status_id', 'quoted_status_id', \\\n",
    "                'quoted_status_id_str', 'quoted_status', 'source'])"
   ]
  },
  {
   "cell_type": "code",
   "execution_count": 6,
   "metadata": {
    "scrolled": true
   },
   "outputs": [
    {
     "data": {
      "text/plain": [
       "created_at            0.00\n",
       "id                    0.00\n",
       "text                  0.00\n",
       "entities              0.00\n",
       "user                  0.00\n",
       "retweet_count         0.00\n",
       "favorite_count        0.00\n",
       "possibly_sensitive    0.47\n",
       "retweeted_status      0.65\n",
       "place                 0.77\n",
       "coordinates           0.79\n",
       "dtype: float64"
      ]
     },
     "execution_count": 6,
     "metadata": {},
     "output_type": "execute_result"
    }
   ],
   "source": [
    "(df.isna().sum() / df.shape[0]).round(2).sort_values()"
   ]
  },
  {
   "cell_type": "code",
   "execution_count": 7,
   "metadata": {},
   "outputs": [],
   "source": [
    "df = df.dropna(subset=['coordinates'])"
   ]
  },
  {
   "cell_type": "code",
   "execution_count": 8,
   "metadata": {
    "scrolled": true
   },
   "outputs": [
    {
     "data": {
      "text/html": [
       "<div>\n",
       "<style scoped>\n",
       "    .dataframe tbody tr th:only-of-type {\n",
       "        vertical-align: middle;\n",
       "    }\n",
       "\n",
       "    .dataframe tbody tr th {\n",
       "        vertical-align: top;\n",
       "    }\n",
       "\n",
       "    .dataframe thead th {\n",
       "        text-align: right;\n",
       "    }\n",
       "</style>\n",
       "<table border=\"1\" class=\"dataframe\">\n",
       "  <thead>\n",
       "    <tr style=\"text-align: right;\">\n",
       "      <th></th>\n",
       "      <th>created_at</th>\n",
       "      <th>id</th>\n",
       "      <th>text</th>\n",
       "      <th>entities</th>\n",
       "      <th>user</th>\n",
       "      <th>coordinates</th>\n",
       "      <th>place</th>\n",
       "      <th>retweet_count</th>\n",
       "      <th>favorite_count</th>\n",
       "      <th>possibly_sensitive</th>\n",
       "      <th>retweeted_status</th>\n",
       "    </tr>\n",
       "  </thead>\n",
       "  <tbody>\n",
       "    <tr>\n",
       "      <th>0</th>\n",
       "      <td>2013-12-31 07:14:22+00:00</td>\n",
       "      <td>417916626596806656</td>\n",
       "      <td>Boom bitch get out the way! #drunk #islands #g...</td>\n",
       "      <td>{'hashtags': [{'text': 'drunk', 'indices': [28...</td>\n",
       "      <td>{'id': 430309700, 'id_str': '430309700', 'name...</td>\n",
       "      <td>{'type': 'Point', 'coordinates': [-118.1004117...</td>\n",
       "      <td>{'id': '10de09f288b1665c', 'url': 'https://api...</td>\n",
       "      <td>0</td>\n",
       "      <td>0</td>\n",
       "      <td>0.0</td>\n",
       "      <td>NaN</td>\n",
       "    </tr>\n",
       "    <tr>\n",
       "      <th>2</th>\n",
       "      <td>2013-12-30 20:29:20+00:00</td>\n",
       "      <td>417754295455723520</td>\n",
       "      <td>Story of my life! 😂 #boulder http://t.co/ZMfNK...</td>\n",
       "      <td>{'hashtags': [{'text': 'boulder', 'indices': [...</td>\n",
       "      <td>{'id': 28122813, 'id_str': '28122813', 'name':...</td>\n",
       "      <td>{'type': 'Point', 'coordinates': [0.13429814, ...</td>\n",
       "      <td>{'id': 'e0a47a1daac8224e', 'url': 'https://api...</td>\n",
       "      <td>0</td>\n",
       "      <td>0</td>\n",
       "      <td>0.0</td>\n",
       "      <td>NaN</td>\n",
       "    </tr>\n",
       "    <tr>\n",
       "      <th>4</th>\n",
       "      <td>2014-01-01 06:12:15+00:00</td>\n",
       "      <td>418263379027820544</td>\n",
       "      <td>Happy New Year #Boulder !!!! What are some of ...</td>\n",
       "      <td>{'hashtags': [{'text': 'Boulder', 'indices': [...</td>\n",
       "      <td>{'id': 120161415, 'id_str': '120161415', 'name...</td>\n",
       "      <td>{'type': 'Point', 'coordinates': [144.98467167...</td>\n",
       "      <td>None</td>\n",
       "      <td>0</td>\n",
       "      <td>0</td>\n",
       "      <td>NaN</td>\n",
       "      <td>NaN</td>\n",
       "    </tr>\n",
       "    <tr>\n",
       "      <th>12</th>\n",
       "      <td>2013-12-31 22:48:10+00:00</td>\n",
       "      <td>418151624394424320</td>\n",
       "      <td>Last sunset here in #boulder #flatirons @ Dush...</td>\n",
       "      <td>{'hashtags': [{'text': 'boulder', 'indices': [...</td>\n",
       "      <td>{'id': 130934604, 'id_str': '130934604', 'name...</td>\n",
       "      <td>{'type': 'Point', 'coordinates': [-105.2772510...</td>\n",
       "      <td>{'id': 'fd70c22040963ac7', 'url': 'https://api...</td>\n",
       "      <td>0</td>\n",
       "      <td>1</td>\n",
       "      <td>0.0</td>\n",
       "      <td>NaN</td>\n",
       "    </tr>\n",
       "    <tr>\n",
       "      <th>13</th>\n",
       "      <td>2014-01-01 04:57:01+00:00</td>\n",
       "      <td>418244446191239168</td>\n",
       "      <td>Ringing in the #NewYear @BMoCA for their NYE a...</td>\n",
       "      <td>{'hashtags': [{'text': 'NewYear', 'indices': [...</td>\n",
       "      <td>{'id': 1163847446, 'id_str': '1163847446', 'na...</td>\n",
       "      <td>{'type': 'Point', 'coordinates': [-105.2769568...</td>\n",
       "      <td>{'id': 'fd70c22040963ac7', 'url': 'https://api...</td>\n",
       "      <td>0</td>\n",
       "      <td>0</td>\n",
       "      <td>NaN</td>\n",
       "      <td>NaN</td>\n",
       "    </tr>\n",
       "    <tr>\n",
       "      <th>...</th>\n",
       "      <td>...</td>\n",
       "      <td>...</td>\n",
       "      <td>...</td>\n",
       "      <td>...</td>\n",
       "      <td>...</td>\n",
       "      <td>...</td>\n",
       "      <td>...</td>\n",
       "      <td>...</td>\n",
       "      <td>...</td>\n",
       "      <td>...</td>\n",
       "      <td>...</td>\n",
       "    </tr>\n",
       "    <tr>\n",
       "      <th>18757</th>\n",
       "      <td>2013-09-12 05:08:40+00:00</td>\n",
       "      <td>378022326689751040</td>\n",
       "      <td>“@dailycamera: RT @JoeCarmenRubino: #Boulder C...</td>\n",
       "      <td>{'hashtags': [{'text': 'Boulder', 'indices': [...</td>\n",
       "      <td>{'id': 390532230, 'id_str': '390532230', 'name...</td>\n",
       "      <td>{'type': 'Point', 'coordinates': [-105.0837946...</td>\n",
       "      <td>{'id': '72a91b4570317b68', 'url': 'https://api...</td>\n",
       "      <td>0</td>\n",
       "      <td>0</td>\n",
       "      <td>NaN</td>\n",
       "      <td>NaN</td>\n",
       "    </tr>\n",
       "    <tr>\n",
       "      <th>18774</th>\n",
       "      <td>2013-09-12 05:09:24+00:00</td>\n",
       "      <td>378022512140886016</td>\n",
       "      <td>Wow. “@jrbates: Update: @dailycamera reports s...</td>\n",
       "      <td>{'hashtags': [{'text': 'CoWx', 'indices': [118...</td>\n",
       "      <td>{'id': 9979022, 'id_str': '9979022', 'name': '...</td>\n",
       "      <td>{'type': 'Point', 'coordinates': [-104.9534144...</td>\n",
       "      <td>{'id': 'b49b3053b5c25bf5', 'url': 'https://api...</td>\n",
       "      <td>0</td>\n",
       "      <td>0</td>\n",
       "      <td>NaN</td>\n",
       "      <td>NaN</td>\n",
       "    </tr>\n",
       "    <tr>\n",
       "      <th>18784</th>\n",
       "      <td>2013-09-12 04:36:22+00:00</td>\n",
       "      <td>378014196115320832</td>\n",
       "      <td>Dealing with heavy rain along I-70E near Auror...</td>\n",
       "      <td>{'hashtags': [{'text': 'cowx', 'indices': [49,...</td>\n",
       "      <td>{'id': 54065433, 'id_str': '54065433', 'name':...</td>\n",
       "      <td>{'type': 'Point', 'coordinates': [-104.8720453...</td>\n",
       "      <td>{'id': 'b49b3053b5c25bf5', 'url': 'https://api...</td>\n",
       "      <td>3</td>\n",
       "      <td>0</td>\n",
       "      <td>NaN</td>\n",
       "      <td>NaN</td>\n",
       "    </tr>\n",
       "    <tr>\n",
       "      <th>18785</th>\n",
       "      <td>2013-09-12 04:35:37+00:00</td>\n",
       "      <td>378014007518457856</td>\n",
       "      <td>CU kids having fun in the flooding underpass. ...</td>\n",
       "      <td>{'hashtags': [{'text': 'cowx', 'indices': [53,...</td>\n",
       "      <td>{'id': 822722, 'id_str': '822722', 'name': 'ar...</td>\n",
       "      <td>{'type': 'Point', 'coordinates': [-105.2777270...</td>\n",
       "      <td>{'id': 'fd70c22040963ac7', 'url': 'https://api...</td>\n",
       "      <td>2</td>\n",
       "      <td>1</td>\n",
       "      <td>0.0</td>\n",
       "      <td>NaN</td>\n",
       "    </tr>\n",
       "    <tr>\n",
       "      <th>18800</th>\n",
       "      <td>2013-09-12 05:00:08+00:00</td>\n",
       "      <td>378020179214491649</td>\n",
       "      <td>Here's the #boulderflood video that's circulat...</td>\n",
       "      <td>{'hashtags': [{'text': 'boulderflood', 'indice...</td>\n",
       "      <td>{'id': 144623661, 'id_str': '144623661', 'name...</td>\n",
       "      <td>{'type': 'Point', 'coordinates': [-104.9665062...</td>\n",
       "      <td>{'id': '7fdcecb477b5ddd7', 'url': 'https://api...</td>\n",
       "      <td>3</td>\n",
       "      <td>0</td>\n",
       "      <td>0.0</td>\n",
       "      <td>NaN</td>\n",
       "    </tr>\n",
       "  </tbody>\n",
       "</table>\n",
       "<p>3943 rows × 11 columns</p>\n",
       "</div>"
      ],
      "text/plain": [
       "                     created_at                  id  \\\n",
       "0     2013-12-31 07:14:22+00:00  417916626596806656   \n",
       "2     2013-12-30 20:29:20+00:00  417754295455723520   \n",
       "4     2014-01-01 06:12:15+00:00  418263379027820544   \n",
       "12    2013-12-31 22:48:10+00:00  418151624394424320   \n",
       "13    2014-01-01 04:57:01+00:00  418244446191239168   \n",
       "...                         ...                 ...   \n",
       "18757 2013-09-12 05:08:40+00:00  378022326689751040   \n",
       "18774 2013-09-12 05:09:24+00:00  378022512140886016   \n",
       "18784 2013-09-12 04:36:22+00:00  378014196115320832   \n",
       "18785 2013-09-12 04:35:37+00:00  378014007518457856   \n",
       "18800 2013-09-12 05:00:08+00:00  378020179214491649   \n",
       "\n",
       "                                                    text  \\\n",
       "0      Boom bitch get out the way! #drunk #islands #g...   \n",
       "2      Story of my life! 😂 #boulder http://t.co/ZMfNK...   \n",
       "4      Happy New Year #Boulder !!!! What are some of ...   \n",
       "12     Last sunset here in #boulder #flatirons @ Dush...   \n",
       "13     Ringing in the #NewYear @BMoCA for their NYE a...   \n",
       "...                                                  ...   \n",
       "18757  “@dailycamera: RT @JoeCarmenRubino: #Boulder C...   \n",
       "18774  Wow. “@jrbates: Update: @dailycamera reports s...   \n",
       "18784  Dealing with heavy rain along I-70E near Auror...   \n",
       "18785  CU kids having fun in the flooding underpass. ...   \n",
       "18800  Here's the #boulderflood video that's circulat...   \n",
       "\n",
       "                                                entities  \\\n",
       "0      {'hashtags': [{'text': 'drunk', 'indices': [28...   \n",
       "2      {'hashtags': [{'text': 'boulder', 'indices': [...   \n",
       "4      {'hashtags': [{'text': 'Boulder', 'indices': [...   \n",
       "12     {'hashtags': [{'text': 'boulder', 'indices': [...   \n",
       "13     {'hashtags': [{'text': 'NewYear', 'indices': [...   \n",
       "...                                                  ...   \n",
       "18757  {'hashtags': [{'text': 'Boulder', 'indices': [...   \n",
       "18774  {'hashtags': [{'text': 'CoWx', 'indices': [118...   \n",
       "18784  {'hashtags': [{'text': 'cowx', 'indices': [49,...   \n",
       "18785  {'hashtags': [{'text': 'cowx', 'indices': [53,...   \n",
       "18800  {'hashtags': [{'text': 'boulderflood', 'indice...   \n",
       "\n",
       "                                                    user  \\\n",
       "0      {'id': 430309700, 'id_str': '430309700', 'name...   \n",
       "2      {'id': 28122813, 'id_str': '28122813', 'name':...   \n",
       "4      {'id': 120161415, 'id_str': '120161415', 'name...   \n",
       "12     {'id': 130934604, 'id_str': '130934604', 'name...   \n",
       "13     {'id': 1163847446, 'id_str': '1163847446', 'na...   \n",
       "...                                                  ...   \n",
       "18757  {'id': 390532230, 'id_str': '390532230', 'name...   \n",
       "18774  {'id': 9979022, 'id_str': '9979022', 'name': '...   \n",
       "18784  {'id': 54065433, 'id_str': '54065433', 'name':...   \n",
       "18785  {'id': 822722, 'id_str': '822722', 'name': 'ar...   \n",
       "18800  {'id': 144623661, 'id_str': '144623661', 'name...   \n",
       "\n",
       "                                             coordinates  \\\n",
       "0      {'type': 'Point', 'coordinates': [-118.1004117...   \n",
       "2      {'type': 'Point', 'coordinates': [0.13429814, ...   \n",
       "4      {'type': 'Point', 'coordinates': [144.98467167...   \n",
       "12     {'type': 'Point', 'coordinates': [-105.2772510...   \n",
       "13     {'type': 'Point', 'coordinates': [-105.2769568...   \n",
       "...                                                  ...   \n",
       "18757  {'type': 'Point', 'coordinates': [-105.0837946...   \n",
       "18774  {'type': 'Point', 'coordinates': [-104.9534144...   \n",
       "18784  {'type': 'Point', 'coordinates': [-104.8720453...   \n",
       "18785  {'type': 'Point', 'coordinates': [-105.2777270...   \n",
       "18800  {'type': 'Point', 'coordinates': [-104.9665062...   \n",
       "\n",
       "                                                   place  retweet_count  \\\n",
       "0      {'id': '10de09f288b1665c', 'url': 'https://api...              0   \n",
       "2      {'id': 'e0a47a1daac8224e', 'url': 'https://api...              0   \n",
       "4                                                   None              0   \n",
       "12     {'id': 'fd70c22040963ac7', 'url': 'https://api...              0   \n",
       "13     {'id': 'fd70c22040963ac7', 'url': 'https://api...              0   \n",
       "...                                                  ...            ...   \n",
       "18757  {'id': '72a91b4570317b68', 'url': 'https://api...              0   \n",
       "18774  {'id': 'b49b3053b5c25bf5', 'url': 'https://api...              0   \n",
       "18784  {'id': 'b49b3053b5c25bf5', 'url': 'https://api...              3   \n",
       "18785  {'id': 'fd70c22040963ac7', 'url': 'https://api...              2   \n",
       "18800  {'id': '7fdcecb477b5ddd7', 'url': 'https://api...              3   \n",
       "\n",
       "       favorite_count  possibly_sensitive retweeted_status  \n",
       "0                   0                 0.0              NaN  \n",
       "2                   0                 0.0              NaN  \n",
       "4                   0                 NaN              NaN  \n",
       "12                  1                 0.0              NaN  \n",
       "13                  0                 NaN              NaN  \n",
       "...               ...                 ...              ...  \n",
       "18757               0                 NaN              NaN  \n",
       "18774               0                 NaN              NaN  \n",
       "18784               0                 NaN              NaN  \n",
       "18785               1                 0.0              NaN  \n",
       "18800               0                 0.0              NaN  \n",
       "\n",
       "[3943 rows x 11 columns]"
      ]
     },
     "execution_count": 8,
     "metadata": {},
     "output_type": "execute_result"
    }
   ],
   "source": [
    "df"
   ]
  },
  {
   "cell_type": "code",
   "execution_count": 9,
   "metadata": {},
   "outputs": [
    {
     "data": {
      "text/plain": [
       "Timestamp('2013-09-12 05:08:40+0000', tz='UTC')"
      ]
     },
     "execution_count": 9,
     "metadata": {},
     "output_type": "execute_result"
    }
   ],
   "source": [
    "df['created_at'][18757]"
   ]
  },
  {
   "cell_type": "code",
   "execution_count": 10,
   "metadata": {},
   "outputs": [
    {
     "data": {
      "text/plain": [
       "Timestamp('2013-12-30 20:29:20+0000', tz='UTC')"
      ]
     },
     "execution_count": 10,
     "metadata": {},
     "output_type": "execute_result"
    }
   ],
   "source": [
    "df['created_at'][2]"
   ]
  },
  {
   "cell_type": "code",
   "execution_count": 11,
   "metadata": {
    "scrolled": true
   },
   "outputs": [
    {
     "data": {
      "text/plain": [
       "created_at            0.00\n",
       "id                    0.00\n",
       "text                  0.00\n",
       "entities              0.00\n",
       "user                  0.00\n",
       "coordinates           0.00\n",
       "retweet_count         0.00\n",
       "favorite_count        0.00\n",
       "place                 0.01\n",
       "possibly_sensitive    0.40\n",
       "retweeted_status      1.00\n",
       "dtype: float64"
      ]
     },
     "execution_count": 11,
     "metadata": {},
     "output_type": "execute_result"
    }
   ],
   "source": [
    "(df.isna().sum() / df.shape[0]).round(2).sort_values()"
   ]
  },
  {
   "cell_type": "code",
   "execution_count": 12,
   "metadata": {},
   "outputs": [],
   "source": [
    "df = df.drop(columns=['retweeted_status'])\n",
    "df = df.dropna(subset=['place'])"
   ]
  },
  {
   "cell_type": "code",
   "execution_count": 13,
   "metadata": {},
   "outputs": [],
   "source": [
    "df[['possibly_sensitive']] = df[['possibly_sensitive']].fillna(value=0)"
   ]
  },
  {
   "cell_type": "code",
   "execution_count": 14,
   "metadata": {
    "scrolled": true
   },
   "outputs": [
    {
     "data": {
      "text/plain": [
       "created_at            datetime64[ns, UTC]\n",
       "id                                  int64\n",
       "text                               object\n",
       "entities                           object\n",
       "user                               object\n",
       "coordinates                        object\n",
       "place                              object\n",
       "retweet_count                       int64\n",
       "favorite_count                      int64\n",
       "possibly_sensitive                float64\n",
       "dtype: object"
      ]
     },
     "execution_count": 14,
     "metadata": {},
     "output_type": "execute_result"
    }
   ],
   "source": [
    "df.dtypes"
   ]
  },
  {
   "cell_type": "code",
   "execution_count": 15,
   "metadata": {},
   "outputs": [],
   "source": [
    "def extract_hashtags(row):\n",
    "    return row['hashtags']\n",
    "\n",
    "def extract_user(row):\n",
    "    return {'name': row['name'], 'screen_name': row['screen_name']}\n",
    "\n",
    "def extract_place(row):\n",
    "    return row['full_name']\n",
    "\n",
    "def extract_coordinates(row):\n",
    "    return row['coordinates']"
   ]
  },
  {
   "cell_type": "code",
   "execution_count": 16,
   "metadata": {},
   "outputs": [],
   "source": [
    "df['entities'] = df['entities'].apply(extract_hashtags)\n",
    "df['user'] = df['user'].apply(extract_user)\n",
    "df['place'] = df['place'].apply(extract_place)\n",
    "df['coordinates'] = df['coordinates'].apply(extract_coordinates)"
   ]
  },
  {
   "cell_type": "code",
   "execution_count": 17,
   "metadata": {},
   "outputs": [
    {
     "data": {
      "text/plain": [
       "{'name': 'Dannie Aguayo', 'screen_name': 'lilcakes3209'}"
      ]
     },
     "execution_count": 17,
     "metadata": {},
     "output_type": "execute_result"
    }
   ],
   "source": [
    "df['user'][0]"
   ]
  },
  {
   "cell_type": "code",
   "execution_count": 18,
   "metadata": {},
   "outputs": [],
   "source": [
    "df = df.rename(columns={'entities': 'hashtags'})\n",
    "df = df.rename(columns={'place': 'location'})"
   ]
  },
  {
   "cell_type": "code",
   "execution_count": 19,
   "metadata": {
    "scrolled": true
   },
   "outputs": [],
   "source": [
    "df['created_at'] = df['created_at'].dt.tz_localize(None)"
   ]
  },
  {
   "cell_type": "code",
   "execution_count": 20,
   "metadata": {
    "scrolled": true
   },
   "outputs": [
    {
     "data": {
      "text/plain": [
       "created_at            datetime64[ns]\n",
       "id                             int64\n",
       "text                          object\n",
       "hashtags                      object\n",
       "user                          object\n",
       "coordinates                   object\n",
       "location                      object\n",
       "retweet_count                  int64\n",
       "favorite_count                 int64\n",
       "possibly_sensitive           float64\n",
       "dtype: object"
      ]
     },
     "execution_count": 20,
     "metadata": {},
     "output_type": "execute_result"
    }
   ],
   "source": [
    "df.dtypes"
   ]
  },
  {
   "cell_type": "code",
   "execution_count": 21,
   "metadata": {},
   "outputs": [],
   "source": [
    "df.to_json('moddata.json')"
   ]
  },
  {
   "cell_type": "code",
   "execution_count": 22,
   "metadata": {},
   "outputs": [],
   "source": [
    "from elasticsearch import Elasticsearch\n",
    "from elasticsearch import helpers"
   ]
  },
  {
   "cell_type": "code",
   "execution_count": 23,
   "metadata": {},
   "outputs": [
    {
     "data": {
      "text/plain": [
       "{'acknowledged': True, 'shards_acknowledged': True, 'index': 'tweets'}"
      ]
     },
     "execution_count": 23,
     "metadata": {},
     "output_type": "execute_result"
    }
   ],
   "source": [
    "ES = Elasticsearch(hosts=[\"localhost\"], http_compress=True)\n",
    "tweetind = 'tweets'\n",
    "mapping = {\n",
    "    \"settings\": {\n",
    "        \"number_of_shards\": \"10\",\n",
    "        \"number_of_replicas\": \"1\"\n",
    "    },\n",
    "    \n",
    "    \"mappings\": {\n",
    "        \"properties\": {\n",
    "            \"created_at\": { 'type': 'date'},\n",
    "            \"id\": { 'type': 'long'},\n",
    "            \"text\": { 'type': 'text'},\n",
    "            \"hashtags\": { 'type': 'nested'},\n",
    "            \"user\": {\n",
    "                \"properties\": {\n",
    "                        \"name\":{\n",
    "                            \"type\": \"keyword\"\n",
    "                        },\n",
    "                        \n",
    "                        \"screen_name\":{\n",
    "                            \"type\": \"keyword\"\n",
    "                        }\n",
    "                }\n",
    "            },\n",
    "            \"coordinates\": {\"type\": \"geo_point\"},\n",
    "            \"location\": {'type': 'text'},\n",
    "            \"retweet_count\": {'type': 'integer'},\n",
    "            \"favorite_count\": {'type': 'integer'},\n",
    "            \"possibly_sensitive\": {'type': 'long'}\n",
    "        },\n",
    "    }\n",
    "}\n",
    "if ES.indices.exists(tweetind):\n",
    "    ES.indices.delete(index=tweetind, ignore = 400)\n",
    "ES.indices.create(index=tweetind, body=mapping)"
   ]
  },
  {
   "cell_type": "code",
   "execution_count": 24,
   "metadata": {},
   "outputs": [],
   "source": [
    "path = ['created_at', 'id', 'text', 'hashtags', 'user', 'coordinates',\\\n",
    "        'location', 'retweet_count', 'favorite_count', 'possibly_sensitive']\n",
    "\n",
    "def Filter(doc): \n",
    "    return {key: doc[key] for key in path}"
   ]
  },
  {
   "cell_type": "code",
   "execution_count": 28,
   "metadata": {},
   "outputs": [
    {
     "ename": "RequestError",
     "evalue": "RequestError(400, 'illegal_argument_exception', 'Action/metadata line [1] contains an unknown parameter [_type]')",
     "output_type": "error",
     "traceback": [
      "\u001b[1;31m---------------------------------------------------------------------------\u001b[0m",
      "\u001b[1;31mRequestError\u001b[0m                              Traceback (most recent call last)",
      "\u001b[1;32m~\\AppData\\Local\\Temp/ipykernel_20812/105666853.py\u001b[0m in \u001b[0;36m<module>\u001b[1;34m\u001b[0m\n\u001b[0;32m     20\u001b[0m         \u001b[1;32mbreak\u001b[0m\u001b[1;33m\u001b[0m\u001b[1;33m\u001b[0m\u001b[0m\n\u001b[0;32m     21\u001b[0m \u001b[1;33m\u001b[0m\u001b[0m\n\u001b[1;32m---> 22\u001b[1;33m     \u001b[0mhelpers\u001b[0m\u001b[1;33m.\u001b[0m\u001b[0mbulk\u001b[0m\u001b[1;33m(\u001b[0m\u001b[0mES\u001b[0m\u001b[1;33m,\u001b[0m \u001b[0mdoc_generator\u001b[0m\u001b[1;33m(\u001b[0m\u001b[0mdf\u001b[0m\u001b[1;33m,\u001b[0m\u001b[0mcounter\u001b[0m\u001b[1;33m)\u001b[0m\u001b[1;33m)\u001b[0m\u001b[1;33m\u001b[0m\u001b[1;33m\u001b[0m\u001b[0m\n\u001b[0m\u001b[0;32m     23\u001b[0m \u001b[1;33m\u001b[0m\u001b[0m\n\u001b[0;32m     24\u001b[0m     \u001b[1;32mif\u001b[0m \u001b[1;32mnot\u001b[0m \u001b[0mdf\u001b[0m\u001b[1;33m.\u001b[0m\u001b[0mempty\u001b[0m\u001b[1;33m:\u001b[0m\u001b[1;33m\u001b[0m\u001b[1;33m\u001b[0m\u001b[0m\n",
      "\u001b[1;32m~\\anaconda3\\lib\\site-packages\\elasticsearch\\helpers\\actions.py\u001b[0m in \u001b[0;36mbulk\u001b[1;34m(client, actions, stats_only, ignore_status, *args, **kwargs)\u001b[0m\n\u001b[0;32m    408\u001b[0m     \u001b[1;31m# make streaming_bulk yield successful results so we can count them\u001b[0m\u001b[1;33m\u001b[0m\u001b[1;33m\u001b[0m\u001b[0m\n\u001b[0;32m    409\u001b[0m     \u001b[0mkwargs\u001b[0m\u001b[1;33m[\u001b[0m\u001b[1;34m\"yield_ok\"\u001b[0m\u001b[1;33m]\u001b[0m \u001b[1;33m=\u001b[0m \u001b[1;32mTrue\u001b[0m\u001b[1;33m\u001b[0m\u001b[1;33m\u001b[0m\u001b[0m\n\u001b[1;32m--> 410\u001b[1;33m     for ok, item in streaming_bulk(\n\u001b[0m\u001b[0;32m    411\u001b[0m         \u001b[0mclient\u001b[0m\u001b[1;33m,\u001b[0m \u001b[0mactions\u001b[0m\u001b[1;33m,\u001b[0m \u001b[0mignore_status\u001b[0m\u001b[1;33m=\u001b[0m\u001b[0mignore_status\u001b[0m\u001b[1;33m,\u001b[0m \u001b[1;33m*\u001b[0m\u001b[0margs\u001b[0m\u001b[1;33m,\u001b[0m \u001b[1;33m**\u001b[0m\u001b[0mkwargs\u001b[0m\u001b[1;33m\u001b[0m\u001b[1;33m\u001b[0m\u001b[0m\n\u001b[0;32m    412\u001b[0m     ):\n",
      "\u001b[1;32m~\\anaconda3\\lib\\site-packages\\elasticsearch\\helpers\\actions.py\u001b[0m in \u001b[0;36mstreaming_bulk\u001b[1;34m(client, actions, chunk_size, max_chunk_bytes, raise_on_error, expand_action_callback, raise_on_exception, max_retries, initial_backoff, max_backoff, yield_ok, ignore_status, *args, **kwargs)\u001b[0m\n\u001b[0;32m    327\u001b[0m \u001b[1;33m\u001b[0m\u001b[0m\n\u001b[0;32m    328\u001b[0m             \u001b[1;32mtry\u001b[0m\u001b[1;33m:\u001b[0m\u001b[1;33m\u001b[0m\u001b[1;33m\u001b[0m\u001b[0m\n\u001b[1;32m--> 329\u001b[1;33m                 for data, (ok, info) in zip(\n\u001b[0m\u001b[0;32m    330\u001b[0m                     \u001b[0mbulk_data\u001b[0m\u001b[1;33m,\u001b[0m\u001b[1;33m\u001b[0m\u001b[1;33m\u001b[0m\u001b[0m\n\u001b[0;32m    331\u001b[0m                     _process_bulk_chunk(\n",
      "\u001b[1;32m~\\anaconda3\\lib\\site-packages\\elasticsearch\\helpers\\actions.py\u001b[0m in \u001b[0;36m_process_bulk_chunk\u001b[1;34m(client, bulk_actions, bulk_data, raise_on_exception, raise_on_error, ignore_status, *args, **kwargs)\u001b[0m\n\u001b[0;32m    254\u001b[0m             \u001b[0mraise_on_error\u001b[0m\u001b[1;33m=\u001b[0m\u001b[0mraise_on_error\u001b[0m\u001b[1;33m,\u001b[0m\u001b[1;33m\u001b[0m\u001b[1;33m\u001b[0m\u001b[0m\n\u001b[0;32m    255\u001b[0m         )\n\u001b[1;32m--> 256\u001b[1;33m     \u001b[1;32mfor\u001b[0m \u001b[0mitem\u001b[0m \u001b[1;32min\u001b[0m \u001b[0mgen\u001b[0m\u001b[1;33m:\u001b[0m\u001b[1;33m\u001b[0m\u001b[1;33m\u001b[0m\u001b[0m\n\u001b[0m\u001b[0;32m    257\u001b[0m         \u001b[1;32myield\u001b[0m \u001b[0mitem\u001b[0m\u001b[1;33m\u001b[0m\u001b[1;33m\u001b[0m\u001b[0m\n\u001b[0;32m    258\u001b[0m \u001b[1;33m\u001b[0m\u001b[0m\n",
      "\u001b[1;32m~\\anaconda3\\lib\\site-packages\\elasticsearch\\helpers\\actions.py\u001b[0m in \u001b[0;36m_process_bulk_chunk_error\u001b[1;34m(error, bulk_data, ignore_status, raise_on_exception, raise_on_error)\u001b[0m\n\u001b[0;32m    193\u001b[0m     \u001b[1;31m# default behavior - just propagate exception\u001b[0m\u001b[1;33m\u001b[0m\u001b[1;33m\u001b[0m\u001b[0m\n\u001b[0;32m    194\u001b[0m     \u001b[1;32mif\u001b[0m \u001b[0mraise_on_exception\u001b[0m \u001b[1;32mand\u001b[0m \u001b[0merror\u001b[0m\u001b[1;33m.\u001b[0m\u001b[0mstatus_code\u001b[0m \u001b[1;32mnot\u001b[0m \u001b[1;32min\u001b[0m \u001b[0mignore_status\u001b[0m\u001b[1;33m:\u001b[0m\u001b[1;33m\u001b[0m\u001b[1;33m\u001b[0m\u001b[0m\n\u001b[1;32m--> 195\u001b[1;33m         \u001b[1;32mraise\u001b[0m \u001b[0merror\u001b[0m\u001b[1;33m\u001b[0m\u001b[1;33m\u001b[0m\u001b[0m\n\u001b[0m\u001b[0;32m    196\u001b[0m \u001b[1;33m\u001b[0m\u001b[0m\n\u001b[0;32m    197\u001b[0m     \u001b[1;31m# if we are not propagating, mark all actions in current chunk as failed\u001b[0m\u001b[1;33m\u001b[0m\u001b[1;33m\u001b[0m\u001b[0m\n",
      "\u001b[1;32m~\\anaconda3\\lib\\site-packages\\elasticsearch\\helpers\\actions.py\u001b[0m in \u001b[0;36m_process_bulk_chunk\u001b[1;34m(client, bulk_actions, bulk_data, raise_on_exception, raise_on_error, ignore_status, *args, **kwargs)\u001b[0m\n\u001b[0;32m    238\u001b[0m     \u001b[1;32mtry\u001b[0m\u001b[1;33m:\u001b[0m\u001b[1;33m\u001b[0m\u001b[1;33m\u001b[0m\u001b[0m\n\u001b[0;32m    239\u001b[0m         \u001b[1;31m# send the actual request\u001b[0m\u001b[1;33m\u001b[0m\u001b[1;33m\u001b[0m\u001b[0m\n\u001b[1;32m--> 240\u001b[1;33m         \u001b[0mresp\u001b[0m \u001b[1;33m=\u001b[0m \u001b[0mclient\u001b[0m\u001b[1;33m.\u001b[0m\u001b[0mbulk\u001b[0m\u001b[1;33m(\u001b[0m\u001b[1;34m\"\\n\"\u001b[0m\u001b[1;33m.\u001b[0m\u001b[0mjoin\u001b[0m\u001b[1;33m(\u001b[0m\u001b[0mbulk_actions\u001b[0m\u001b[1;33m)\u001b[0m \u001b[1;33m+\u001b[0m \u001b[1;34m\"\\n\"\u001b[0m\u001b[1;33m,\u001b[0m \u001b[1;33m*\u001b[0m\u001b[0margs\u001b[0m\u001b[1;33m,\u001b[0m \u001b[1;33m**\u001b[0m\u001b[0mkwargs\u001b[0m\u001b[1;33m)\u001b[0m\u001b[1;33m\u001b[0m\u001b[1;33m\u001b[0m\u001b[0m\n\u001b[0m\u001b[0;32m    241\u001b[0m     \u001b[1;32mexcept\u001b[0m \u001b[0mTransportError\u001b[0m \u001b[1;32mas\u001b[0m \u001b[0me\u001b[0m\u001b[1;33m:\u001b[0m\u001b[1;33m\u001b[0m\u001b[1;33m\u001b[0m\u001b[0m\n\u001b[0;32m    242\u001b[0m         gen = _process_bulk_chunk_error(\n",
      "\u001b[1;32m~\\anaconda3\\lib\\site-packages\\elasticsearch\\client\\utils.py\u001b[0m in \u001b[0;36m_wrapped\u001b[1;34m(*args, **kwargs)\u001b[0m\n\u001b[0;32m    166\u001b[0m                 \u001b[1;32mif\u001b[0m \u001b[0mp\u001b[0m \u001b[1;32min\u001b[0m \u001b[0mkwargs\u001b[0m\u001b[1;33m:\u001b[0m\u001b[1;33m\u001b[0m\u001b[1;33m\u001b[0m\u001b[0m\n\u001b[0;32m    167\u001b[0m                     \u001b[0mparams\u001b[0m\u001b[1;33m[\u001b[0m\u001b[0mp\u001b[0m\u001b[1;33m]\u001b[0m \u001b[1;33m=\u001b[0m \u001b[0mkwargs\u001b[0m\u001b[1;33m.\u001b[0m\u001b[0mpop\u001b[0m\u001b[1;33m(\u001b[0m\u001b[0mp\u001b[0m\u001b[1;33m)\u001b[0m\u001b[1;33m\u001b[0m\u001b[1;33m\u001b[0m\u001b[0m\n\u001b[1;32m--> 168\u001b[1;33m             \u001b[1;32mreturn\u001b[0m \u001b[0mfunc\u001b[0m\u001b[1;33m(\u001b[0m\u001b[1;33m*\u001b[0m\u001b[0margs\u001b[0m\u001b[1;33m,\u001b[0m \u001b[0mparams\u001b[0m\u001b[1;33m=\u001b[0m\u001b[0mparams\u001b[0m\u001b[1;33m,\u001b[0m \u001b[0mheaders\u001b[0m\u001b[1;33m=\u001b[0m\u001b[0mheaders\u001b[0m\u001b[1;33m,\u001b[0m \u001b[1;33m**\u001b[0m\u001b[0mkwargs\u001b[0m\u001b[1;33m)\u001b[0m\u001b[1;33m\u001b[0m\u001b[1;33m\u001b[0m\u001b[0m\n\u001b[0m\u001b[0;32m    169\u001b[0m \u001b[1;33m\u001b[0m\u001b[0m\n\u001b[0;32m    170\u001b[0m         \u001b[1;32mreturn\u001b[0m \u001b[0m_wrapped\u001b[0m\u001b[1;33m\u001b[0m\u001b[1;33m\u001b[0m\u001b[0m\n",
      "\u001b[1;32m~\\anaconda3\\lib\\site-packages\\elasticsearch\\client\\__init__.py\u001b[0m in \u001b[0;36mbulk\u001b[1;34m(self, body, index, doc_type, params, headers)\u001b[0m\n\u001b[0;32m    461\u001b[0m \u001b[1;33m\u001b[0m\u001b[0m\n\u001b[0;32m    462\u001b[0m         \u001b[0mbody\u001b[0m \u001b[1;33m=\u001b[0m \u001b[0m_bulk_body\u001b[0m\u001b[1;33m(\u001b[0m\u001b[0mself\u001b[0m\u001b[1;33m.\u001b[0m\u001b[0mtransport\u001b[0m\u001b[1;33m.\u001b[0m\u001b[0mserializer\u001b[0m\u001b[1;33m,\u001b[0m \u001b[0mbody\u001b[0m\u001b[1;33m)\u001b[0m\u001b[1;33m\u001b[0m\u001b[1;33m\u001b[0m\u001b[0m\n\u001b[1;32m--> 463\u001b[1;33m         return self.transport.perform_request(\n\u001b[0m\u001b[0;32m    464\u001b[0m             \u001b[1;34m\"POST\"\u001b[0m\u001b[1;33m,\u001b[0m\u001b[1;33m\u001b[0m\u001b[1;33m\u001b[0m\u001b[0m\n\u001b[0;32m    465\u001b[0m             \u001b[0m_make_path\u001b[0m\u001b[1;33m(\u001b[0m\u001b[0mindex\u001b[0m\u001b[1;33m,\u001b[0m \u001b[0mdoc_type\u001b[0m\u001b[1;33m,\u001b[0m \u001b[1;34m\"_bulk\"\u001b[0m\u001b[1;33m)\u001b[0m\u001b[1;33m,\u001b[0m\u001b[1;33m\u001b[0m\u001b[1;33m\u001b[0m\u001b[0m\n",
      "\u001b[1;32m~\\anaconda3\\lib\\site-packages\\elasticsearch\\transport.py\u001b[0m in \u001b[0;36mperform_request\u001b[1;34m(self, method, url, headers, params, body)\u001b[0m\n\u001b[0;32m    413\u001b[0m                         \u001b[1;32mraise\u001b[0m \u001b[0me\u001b[0m\u001b[1;33m\u001b[0m\u001b[1;33m\u001b[0m\u001b[0m\n\u001b[0;32m    414\u001b[0m                 \u001b[1;32melse\u001b[0m\u001b[1;33m:\u001b[0m\u001b[1;33m\u001b[0m\u001b[1;33m\u001b[0m\u001b[0m\n\u001b[1;32m--> 415\u001b[1;33m                     \u001b[1;32mraise\u001b[0m \u001b[0me\u001b[0m\u001b[1;33m\u001b[0m\u001b[1;33m\u001b[0m\u001b[0m\n\u001b[0m\u001b[0;32m    416\u001b[0m \u001b[1;33m\u001b[0m\u001b[0m\n\u001b[0;32m    417\u001b[0m             \u001b[1;32melse\u001b[0m\u001b[1;33m:\u001b[0m\u001b[1;33m\u001b[0m\u001b[1;33m\u001b[0m\u001b[0m\n",
      "\u001b[1;32m~\\anaconda3\\lib\\site-packages\\elasticsearch\\transport.py\u001b[0m in \u001b[0;36mperform_request\u001b[1;34m(self, method, url, headers, params, body)\u001b[0m\n\u001b[0;32m    379\u001b[0m \u001b[1;33m\u001b[0m\u001b[0m\n\u001b[0;32m    380\u001b[0m             \u001b[1;32mtry\u001b[0m\u001b[1;33m:\u001b[0m\u001b[1;33m\u001b[0m\u001b[1;33m\u001b[0m\u001b[0m\n\u001b[1;32m--> 381\u001b[1;33m                 status, headers_response, data = connection.perform_request(\n\u001b[0m\u001b[0;32m    382\u001b[0m                     \u001b[0mmethod\u001b[0m\u001b[1;33m,\u001b[0m\u001b[1;33m\u001b[0m\u001b[1;33m\u001b[0m\u001b[0m\n\u001b[0;32m    383\u001b[0m                     \u001b[0murl\u001b[0m\u001b[1;33m,\u001b[0m\u001b[1;33m\u001b[0m\u001b[1;33m\u001b[0m\u001b[0m\n",
      "\u001b[1;32m~\\anaconda3\\lib\\site-packages\\elasticsearch\\connection\\http_urllib3.py\u001b[0m in \u001b[0;36mperform_request\u001b[1;34m(self, method, url, params, body, timeout, ignore, headers)\u001b[0m\n\u001b[0;32m    275\u001b[0m                 \u001b[0mmethod\u001b[0m\u001b[1;33m,\u001b[0m \u001b[0mfull_url\u001b[0m\u001b[1;33m,\u001b[0m \u001b[0murl\u001b[0m\u001b[1;33m,\u001b[0m \u001b[0morig_body\u001b[0m\u001b[1;33m,\u001b[0m \u001b[0mduration\u001b[0m\u001b[1;33m,\u001b[0m \u001b[0mresponse\u001b[0m\u001b[1;33m.\u001b[0m\u001b[0mstatus\u001b[0m\u001b[1;33m,\u001b[0m \u001b[0mraw_data\u001b[0m\u001b[1;33m\u001b[0m\u001b[1;33m\u001b[0m\u001b[0m\n\u001b[0;32m    276\u001b[0m             )\n\u001b[1;32m--> 277\u001b[1;33m             \u001b[0mself\u001b[0m\u001b[1;33m.\u001b[0m\u001b[0m_raise_error\u001b[0m\u001b[1;33m(\u001b[0m\u001b[0mresponse\u001b[0m\u001b[1;33m.\u001b[0m\u001b[0mstatus\u001b[0m\u001b[1;33m,\u001b[0m \u001b[0mraw_data\u001b[0m\u001b[1;33m)\u001b[0m\u001b[1;33m\u001b[0m\u001b[1;33m\u001b[0m\u001b[0m\n\u001b[0m\u001b[0;32m    278\u001b[0m \u001b[1;33m\u001b[0m\u001b[0m\n\u001b[0;32m    279\u001b[0m         self.log_request_success(\n",
      "\u001b[1;32m~\\anaconda3\\lib\\site-packages\\elasticsearch\\connection\\base.py\u001b[0m in \u001b[0;36m_raise_error\u001b[1;34m(self, status_code, raw_data)\u001b[0m\n\u001b[0;32m    328\u001b[0m             \u001b[0mlogger\u001b[0m\u001b[1;33m.\u001b[0m\u001b[0mwarning\u001b[0m\u001b[1;33m(\u001b[0m\u001b[1;34m\"Undecodable raw error response from server: %s\"\u001b[0m\u001b[1;33m,\u001b[0m \u001b[0merr\u001b[0m\u001b[1;33m)\u001b[0m\u001b[1;33m\u001b[0m\u001b[1;33m\u001b[0m\u001b[0m\n\u001b[0;32m    329\u001b[0m \u001b[1;33m\u001b[0m\u001b[0m\n\u001b[1;32m--> 330\u001b[1;33m         raise HTTP_EXCEPTIONS.get(status_code, TransportError)(\n\u001b[0m\u001b[0;32m    331\u001b[0m             \u001b[0mstatus_code\u001b[0m\u001b[1;33m,\u001b[0m \u001b[0merror_message\u001b[0m\u001b[1;33m,\u001b[0m \u001b[0madditional_info\u001b[0m\u001b[1;33m\u001b[0m\u001b[1;33m\u001b[0m\u001b[0m\n\u001b[0;32m    332\u001b[0m         )\n",
      "\u001b[1;31mRequestError\u001b[0m: RequestError(400, 'illegal_argument_exception', 'Action/metadata line [1] contains an unknown parameter [_type]')"
     ]
    }
   ],
   "source": [
    "def doc_generator(df,counter):\n",
    "    counter=0\n",
    "    df_iter = df.iterrows()\n",
    "    for index, document in df_iter:\n",
    "        if counter < 500:\n",
    "            yield {\n",
    "                    \"_index\": 'tweets',\n",
    "                    \"_type\": \"_doc\",\n",
    "                    \"_source\": Filter(document),\n",
    "                }\n",
    "        \n",
    "        elif counter >= 500:\n",
    "            return\n",
    "        counter += 1\n",
    "    return\n",
    "    \n",
    "counter_range=(len(df)/500)+1\n",
    "for counter in range(int(counter_range)):\n",
    "    if df.empty:\n",
    "        break\n",
    "        \n",
    "    helpers.bulk(ES, doc_generator(df,counter))\n",
    "    \n",
    "    if not df.empty:\n",
    "        df.drop(df.index[0:500],0, inplace=True)\n",
    "        df.reset_index()"
   ]
  },
  {
   "cell_type": "code",
   "execution_count": 27,
   "metadata": {
    "scrolled": true
   },
   "outputs": [
    {
     "data": {
      "text/plain": [
       "{'took': 5,\n",
       " 'timed_out': False,\n",
       " '_shards': {'total': 10, 'successful': 10, 'skipped': 0, 'failed': 0},\n",
       " 'hits': {'total': {'value': 0, 'relation': 'eq'},\n",
       "  'max_score': None,\n",
       "  'hits': []}}"
      ]
     },
     "execution_count": 27,
     "metadata": {},
     "output_type": "execute_result"
    }
   ],
   "source": [
    "# Testing whether elasticsearch queries work\n",
    "ES.search(index='tweets', body=\n",
    "{\n",
    "  \"query\": {\n",
    "      \"bool\":{\n",
    "        \"filter\": \n",
    "          [ { \"match\": { \"text\": \"h\" } }, \n",
    "            { \"range\": { \"date\": { \"gte\":\"2013-09-12 05:08\", \"lte\":\"013-12-30 20:29\" } } } ] \n",
    "      }\n",
    "  }\n",
    "})"
   ]
  },
  {
   "cell_type": "code",
   "execution_count": 26,
   "metadata": {},
   "outputs": [],
   "source": [
    "Query = {'query': {'bool': {'filter': [{'geo_bounding_box': {'coordinates': {'bottom_left': [-115.66406250000001 ,37.16031654673677 ], 'top_right': [-101.95312500000001, 45.460130637921004]}}}, {'match': {'text': 'hello'}}, {'range': {'created_at': {'gte': '2013-09-12', 'lte': '2013-12-30'}}}]}}, 'aggs': {'group_by_month': {'date_histogram': {'field': 'created_at', 'interval': 'month'}}}}"
   ]
  },
  {
   "cell_type": "code",
   "execution_count": 27,
   "metadata": {},
   "outputs": [
    {
     "name": "stdout",
     "output_type": "stream",
     "text": [
      "[{'_index': 'tweets', '_type': '_doc', '_id': 'tlen930BxnCZtHH_wfba', '_score': 0.0, '_source': {'created_at': '2013-11-22T23:39:13', 'id': 404031342780088321, 'text': 'Meeting someone special !!  Hello #Boulder been a while! (@ Mesa/Marsall Trail Head) [pic]: http://t.co/UbZsBuVlN1', 'hashtags': [{'text': 'Boulder', 'indices': [34, 42]}], 'user': {'name': 'Mike Baltus', 'screen_name': 'MikeBaltus'}, 'coordinates': [-105.23127122, 39.95267376], 'location': 'Colorado, USA', 'retweet_count': 0, 'favorite_count': 0, 'possibly_sensitive': 0.0}}, {'_index': 'tweets', '_type': '_doc', '_id': '5Ven930BxnCZtHH_w_jt', '_score': 0.0, '_source': {'created_at': '2013-10-18T17:55:45', 'id': 391261332542337024, 'text': 'Hello Colorado ! \\nSunshine + Snow - quite refreshing! #crystalfighters #tour #usa #boulder #colorado @… http://t.co/hgG6PPwRvR', 'hashtags': [{'text': 'crystalfighters', 'indices': [54, 70]}, {'text': 'tour', 'indices': [71, 76]}, {'text': 'usa', 'indices': [77, 81]}, {'text': 'boulder', 'indices': [82, 90]}, {'text': 'colorado', 'indices': [91, 100]}], 'user': {'name': 'Andrea Marongiu', 'screen_name': 'MarongiuMusic'}, 'coordinates': [-105.27730954, 40.01918011], 'location': 'Boulder, CO', 'retweet_count': 0, 'favorite_count': 1, 'possibly_sensitive': 0.0}}] {'group_by_month': {'buckets': [{'key_as_string': '2013-10-01T00:00:00.000Z', 'key': 1380585600000, 'doc_count': 1}, {'key_as_string': '2013-11-01T00:00:00.000Z', 'key': 1383264000000, 'doc_count': 1}]}}\n"
     ]
    },
    {
     "name": "stderr",
     "output_type": "stream",
     "text": [
      "C:\\Users\\mqdad\\AppData\\Local\\Temp/ipykernel_5352/1551133906.py:1: DeprecationWarning: The 'body' parameter is deprecated for the 'search' API and will be removed in a future version. Instead use API parameters directly. See https://github.com/elastic/elasticsearch-py/issues/1698 for more information\n",
      "  res = ES.search(index=\"tweets\", body=Query,  size=10000)\n",
      "C:\\Users\\mqdad\\AppData\\Local\\Programs\\Python\\Python310\\lib\\site-packages\\elasticsearch\\connection\\base.py:200: ElasticsearchWarning: [interval] on [date_histogram] is deprecated, use [fixed_interval] or [calendar_interval] in the future.\n",
      "  warnings.warn(message, category=ElasticsearchWarning)\n"
     ]
    }
   ],
   "source": [
    "res = ES.search(index=\"tweets\", body=Query,  size=10000)\n",
    "print(res['hits']['hits'],res['aggregations'])"
   ]
  },
  {
   "cell_type": "code",
   "execution_count": 28,
   "metadata": {},
   "outputs": [
    {
     "name": "stdout",
     "output_type": "stream",
     "text": [
      "{'group_by_month': {'buckets': [{'key_as_string': '2013-10-01T00:00:00.000Z', 'key': 1380585600000, 'doc_count': 1}, {'key_as_string': '2013-11-01T00:00:00.000Z', 'key': 1383264000000, 'doc_count': 1}]}}\n"
     ]
    }
   ],
   "source": [
    "print(res['aggregations'])"
   ]
  },
  {
   "cell_type": "code",
   "execution_count": null,
   "metadata": {},
   "outputs": [],
   "source": []
  }
 ],
 "metadata": {
  "kernelspec": {
   "display_name": "Python 3.7.4 ('base')",
   "language": "python",
   "name": "python3"
  },
  "language_info": {
   "codemirror_mode": {
    "name": "ipython",
    "version": 3
   },
   "file_extension": ".py",
   "mimetype": "text/x-python",
   "name": "python",
   "nbconvert_exporter": "python",
   "pygments_lexer": "ipython3",
   "version": "3.7.4 (default, Aug  9 2019, 18:34:13) [MSC v.1915 64 bit (AMD64)]"
  },
  "vscode": {
   "interpreter": {
    "hash": "001d312998ccaa0329b2cc0d8eb5f75f2d7dec74b0be409fd8e86812bc7a312e"
   }
  }
 },
 "nbformat": 4,
 "nbformat_minor": 4
}
